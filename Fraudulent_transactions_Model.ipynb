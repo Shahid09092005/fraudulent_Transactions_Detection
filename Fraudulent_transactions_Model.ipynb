{
  "nbformat": 4,
  "nbformat_minor": 0,
  "metadata": {
    "colab": {
      "provenance": [],
      "gpuType": "T4"
    },
    "kernelspec": {
      "name": "python3",
      "display_name": "Python 3"
    },
    "language_info": {
      "name": "python"
    },
    "accelerator": "GPU"
  },
  "cells": [
    {
      "cell_type": "code",
      "source": [
        "!pip install pandas scikit-learn numpy\n"
      ],
      "metadata": {
        "id": "bhiaJkKYSwB2"
      },
      "execution_count": null,
      "outputs": []
    },
    {
      "cell_type": "code",
      "source": [
        "# import the requirement libraries\n",
        "\n",
        "import pandas as pd\n",
        "import numpy as np\n",
        "from sklearn.model_selection import train_test_split\n",
        "from sklearn.ensemble import RandomForestClassifier, GradientBoostingClassifier, VotingClassifier\n",
        "from sklearn.metrics import classification_report, confusion_matrix, roc_auc_score\n",
        "from sklearn.utils import shuffle"
      ],
      "metadata": {
        "id": "mCSZhBnuW1FI"
      },
      "execution_count": 2,
      "outputs": []
    },
    {
      "cell_type": "code",
      "source": [
        "# load the data\n",
        "df =pd.read_csv('/content/Fraud.csv')\n",
        "print(\"Successfully loaded the data\")\n"
      ],
      "metadata": {
        "colab": {
          "base_uri": "https://localhost:8080/",
          "height": 0
        },
        "id": "b1G93-9v0jeh",
        "outputId": "52c24bcd-50b6-4290-9700-696627e1e210"
      },
      "execution_count": 4,
      "outputs": [
        {
          "output_type": "stream",
          "name": "stdout",
          "text": [
            "Successfully loaded the data\n"
          ]
        }
      ]
    },
    {
      "cell_type": "markdown",
      "source": [
        "**Analyse the data**"
      ],
      "metadata": {
        "id": "RTtghHNquHPf"
      }
    },
    {
      "cell_type": "code",
      "source": [
        "df.info()"
      ],
      "metadata": {
        "colab": {
          "base_uri": "https://localhost:8080/",
          "height": 0
        },
        "id": "g-QrjT_6uNAX",
        "outputId": "8b12f3b6-0ac9-44c6-9c35-33a531fd559f"
      },
      "execution_count": 5,
      "outputs": [
        {
          "output_type": "stream",
          "name": "stdout",
          "text": [
            "<class 'pandas.core.frame.DataFrame'>\n",
            "RangeIndex: 97225 entries, 0 to 97224\n",
            "Data columns (total 11 columns):\n",
            " #   Column          Non-Null Count  Dtype  \n",
            "---  ------          --------------  -----  \n",
            " 0   step            97225 non-null  int64  \n",
            " 1   type            97225 non-null  object \n",
            " 2   amount          97225 non-null  float64\n",
            " 3   nameOrig        97225 non-null  object \n",
            " 4   oldbalanceOrg   97225 non-null  float64\n",
            " 5   newbalanceOrig  97225 non-null  float64\n",
            " 6   nameDest        97225 non-null  object \n",
            " 7   oldbalanceDest  97225 non-null  float64\n",
            " 8   newbalanceDest  97224 non-null  float64\n",
            " 9   isFraud         97224 non-null  float64\n",
            " 10  isFlaggedFraud  97224 non-null  float64\n",
            "dtypes: float64(7), int64(1), object(3)\n",
            "memory usage: 8.2+ MB\n"
          ]
        }
      ]
    },
    {
      "cell_type": "code",
      "source": [
        "df.sample(8) # sample of the data"
      ],
      "metadata": {
        "colab": {
          "base_uri": "https://localhost:8080/",
          "height": 320
        },
        "id": "4hvL35JQuQA2",
        "outputId": "b1dbbfe8-5e57-4a0d-9325-89c60840ecb3"
      },
      "execution_count": 6,
      "outputs": [
        {
          "output_type": "execute_result",
          "data": {
            "text/plain": [
              "       step      type      amount     nameOrig  oldbalanceOrg  newbalanceOrig  \\\n",
              "65565     9   CASH_IN   151657.34   C819383281        1230.00       152887.34   \n",
              "95902    10  CASH_OUT    85738.89  C1709185383         440.00            0.00   \n",
              "5008      5   CASH_IN   133038.81   C711964207     6198727.47      6331766.28   \n",
              "41409     9   CASH_IN   180941.45  C1685725680      209380.00       390321.45   \n",
              "41641     9  CASH_OUT   239286.88  C1636606740       77882.00            0.00   \n",
              "92065    10  TRANSFER  1374469.26  C1392404631         194.00            0.00   \n",
              "40024     9   PAYMENT    34852.96   C604841532       40084.00         5231.04   \n",
              "42782     9  CASH_OUT   186303.71   C799777630           0.00            0.00   \n",
              "\n",
              "          nameDest  oldbalanceDest  newbalanceDest  isFraud  isFlaggedFraud  \n",
              "65565  C1109485117       443539.10       503219.50      0.0             0.0  \n",
              "95902  C1474544725       198171.00       470554.48      0.0             0.0  \n",
              "5008    C909295153      7093793.67      6661385.87      0.0             0.0  \n",
              "41409  C1498054790        88976.00            0.00      0.0             0.0  \n",
              "41641  C1121729242        18795.00       265222.87      0.0             0.0  \n",
              "92065  C1423125072        84223.24      1726713.28      0.0             0.0  \n",
              "40024  M1757475031            0.00            0.00      0.0             0.0  \n",
              "42782   C814886797       208736.40       395040.12      0.0             0.0  "
            ],
            "text/html": [
              "\n",
              "  <div id=\"df-0fb9e598-2673-432d-8a04-0dcfad77bcbd\" class=\"colab-df-container\">\n",
              "    <div>\n",
              "<style scoped>\n",
              "    .dataframe tbody tr th:only-of-type {\n",
              "        vertical-align: middle;\n",
              "    }\n",
              "\n",
              "    .dataframe tbody tr th {\n",
              "        vertical-align: top;\n",
              "    }\n",
              "\n",
              "    .dataframe thead th {\n",
              "        text-align: right;\n",
              "    }\n",
              "</style>\n",
              "<table border=\"1\" class=\"dataframe\">\n",
              "  <thead>\n",
              "    <tr style=\"text-align: right;\">\n",
              "      <th></th>\n",
              "      <th>step</th>\n",
              "      <th>type</th>\n",
              "      <th>amount</th>\n",
              "      <th>nameOrig</th>\n",
              "      <th>oldbalanceOrg</th>\n",
              "      <th>newbalanceOrig</th>\n",
              "      <th>nameDest</th>\n",
              "      <th>oldbalanceDest</th>\n",
              "      <th>newbalanceDest</th>\n",
              "      <th>isFraud</th>\n",
              "      <th>isFlaggedFraud</th>\n",
              "    </tr>\n",
              "  </thead>\n",
              "  <tbody>\n",
              "    <tr>\n",
              "      <th>65565</th>\n",
              "      <td>9</td>\n",
              "      <td>CASH_IN</td>\n",
              "      <td>151657.34</td>\n",
              "      <td>C819383281</td>\n",
              "      <td>1230.00</td>\n",
              "      <td>152887.34</td>\n",
              "      <td>C1109485117</td>\n",
              "      <td>443539.10</td>\n",
              "      <td>503219.50</td>\n",
              "      <td>0.0</td>\n",
              "      <td>0.0</td>\n",
              "    </tr>\n",
              "    <tr>\n",
              "      <th>95902</th>\n",
              "      <td>10</td>\n",
              "      <td>CASH_OUT</td>\n",
              "      <td>85738.89</td>\n",
              "      <td>C1709185383</td>\n",
              "      <td>440.00</td>\n",
              "      <td>0.00</td>\n",
              "      <td>C1474544725</td>\n",
              "      <td>198171.00</td>\n",
              "      <td>470554.48</td>\n",
              "      <td>0.0</td>\n",
              "      <td>0.0</td>\n",
              "    </tr>\n",
              "    <tr>\n",
              "      <th>5008</th>\n",
              "      <td>5</td>\n",
              "      <td>CASH_IN</td>\n",
              "      <td>133038.81</td>\n",
              "      <td>C711964207</td>\n",
              "      <td>6198727.47</td>\n",
              "      <td>6331766.28</td>\n",
              "      <td>C909295153</td>\n",
              "      <td>7093793.67</td>\n",
              "      <td>6661385.87</td>\n",
              "      <td>0.0</td>\n",
              "      <td>0.0</td>\n",
              "    </tr>\n",
              "    <tr>\n",
              "      <th>41409</th>\n",
              "      <td>9</td>\n",
              "      <td>CASH_IN</td>\n",
              "      <td>180941.45</td>\n",
              "      <td>C1685725680</td>\n",
              "      <td>209380.00</td>\n",
              "      <td>390321.45</td>\n",
              "      <td>C1498054790</td>\n",
              "      <td>88976.00</td>\n",
              "      <td>0.00</td>\n",
              "      <td>0.0</td>\n",
              "      <td>0.0</td>\n",
              "    </tr>\n",
              "    <tr>\n",
              "      <th>41641</th>\n",
              "      <td>9</td>\n",
              "      <td>CASH_OUT</td>\n",
              "      <td>239286.88</td>\n",
              "      <td>C1636606740</td>\n",
              "      <td>77882.00</td>\n",
              "      <td>0.00</td>\n",
              "      <td>C1121729242</td>\n",
              "      <td>18795.00</td>\n",
              "      <td>265222.87</td>\n",
              "      <td>0.0</td>\n",
              "      <td>0.0</td>\n",
              "    </tr>\n",
              "    <tr>\n",
              "      <th>92065</th>\n",
              "      <td>10</td>\n",
              "      <td>TRANSFER</td>\n",
              "      <td>1374469.26</td>\n",
              "      <td>C1392404631</td>\n",
              "      <td>194.00</td>\n",
              "      <td>0.00</td>\n",
              "      <td>C1423125072</td>\n",
              "      <td>84223.24</td>\n",
              "      <td>1726713.28</td>\n",
              "      <td>0.0</td>\n",
              "      <td>0.0</td>\n",
              "    </tr>\n",
              "    <tr>\n",
              "      <th>40024</th>\n",
              "      <td>9</td>\n",
              "      <td>PAYMENT</td>\n",
              "      <td>34852.96</td>\n",
              "      <td>C604841532</td>\n",
              "      <td>40084.00</td>\n",
              "      <td>5231.04</td>\n",
              "      <td>M1757475031</td>\n",
              "      <td>0.00</td>\n",
              "      <td>0.00</td>\n",
              "      <td>0.0</td>\n",
              "      <td>0.0</td>\n",
              "    </tr>\n",
              "    <tr>\n",
              "      <th>42782</th>\n",
              "      <td>9</td>\n",
              "      <td>CASH_OUT</td>\n",
              "      <td>186303.71</td>\n",
              "      <td>C799777630</td>\n",
              "      <td>0.00</td>\n",
              "      <td>0.00</td>\n",
              "      <td>C814886797</td>\n",
              "      <td>208736.40</td>\n",
              "      <td>395040.12</td>\n",
              "      <td>0.0</td>\n",
              "      <td>0.0</td>\n",
              "    </tr>\n",
              "  </tbody>\n",
              "</table>\n",
              "</div>\n",
              "    <div class=\"colab-df-buttons\">\n",
              "\n",
              "  <div class=\"colab-df-container\">\n",
              "    <button class=\"colab-df-convert\" onclick=\"convertToInteractive('df-0fb9e598-2673-432d-8a04-0dcfad77bcbd')\"\n",
              "            title=\"Convert this dataframe to an interactive table.\"\n",
              "            style=\"display:none;\">\n",
              "\n",
              "  <svg xmlns=\"http://www.w3.org/2000/svg\" height=\"24px\" viewBox=\"0 -960 960 960\">\n",
              "    <path d=\"M120-120v-720h720v720H120Zm60-500h600v-160H180v160Zm220 220h160v-160H400v160Zm0 220h160v-160H400v160ZM180-400h160v-160H180v160Zm440 0h160v-160H620v160ZM180-180h160v-160H180v160Zm440 0h160v-160H620v160Z\"/>\n",
              "  </svg>\n",
              "    </button>\n",
              "\n",
              "  <style>\n",
              "    .colab-df-container {\n",
              "      display:flex;\n",
              "      gap: 12px;\n",
              "    }\n",
              "\n",
              "    .colab-df-convert {\n",
              "      background-color: #E8F0FE;\n",
              "      border: none;\n",
              "      border-radius: 50%;\n",
              "      cursor: pointer;\n",
              "      display: none;\n",
              "      fill: #1967D2;\n",
              "      height: 32px;\n",
              "      padding: 0 0 0 0;\n",
              "      width: 32px;\n",
              "    }\n",
              "\n",
              "    .colab-df-convert:hover {\n",
              "      background-color: #E2EBFA;\n",
              "      box-shadow: 0px 1px 2px rgba(60, 64, 67, 0.3), 0px 1px 3px 1px rgba(60, 64, 67, 0.15);\n",
              "      fill: #174EA6;\n",
              "    }\n",
              "\n",
              "    .colab-df-buttons div {\n",
              "      margin-bottom: 4px;\n",
              "    }\n",
              "\n",
              "    [theme=dark] .colab-df-convert {\n",
              "      background-color: #3B4455;\n",
              "      fill: #D2E3FC;\n",
              "    }\n",
              "\n",
              "    [theme=dark] .colab-df-convert:hover {\n",
              "      background-color: #434B5C;\n",
              "      box-shadow: 0px 1px 3px 1px rgba(0, 0, 0, 0.15);\n",
              "      filter: drop-shadow(0px 1px 2px rgba(0, 0, 0, 0.3));\n",
              "      fill: #FFFFFF;\n",
              "    }\n",
              "  </style>\n",
              "\n",
              "    <script>\n",
              "      const buttonEl =\n",
              "        document.querySelector('#df-0fb9e598-2673-432d-8a04-0dcfad77bcbd button.colab-df-convert');\n",
              "      buttonEl.style.display =\n",
              "        google.colab.kernel.accessAllowed ? 'block' : 'none';\n",
              "\n",
              "      async function convertToInteractive(key) {\n",
              "        const element = document.querySelector('#df-0fb9e598-2673-432d-8a04-0dcfad77bcbd');\n",
              "        const dataTable =\n",
              "          await google.colab.kernel.invokeFunction('convertToInteractive',\n",
              "                                                    [key], {});\n",
              "        if (!dataTable) return;\n",
              "\n",
              "        const docLinkHtml = 'Like what you see? Visit the ' +\n",
              "          '<a target=\"_blank\" href=https://colab.research.google.com/notebooks/data_table.ipynb>data table notebook</a>'\n",
              "          + ' to learn more about interactive tables.';\n",
              "        element.innerHTML = '';\n",
              "        dataTable['output_type'] = 'display_data';\n",
              "        await google.colab.output.renderOutput(dataTable, element);\n",
              "        const docLink = document.createElement('div');\n",
              "        docLink.innerHTML = docLinkHtml;\n",
              "        element.appendChild(docLink);\n",
              "      }\n",
              "    </script>\n",
              "  </div>\n",
              "\n",
              "\n",
              "    <div id=\"df-56366169-2adf-47c4-8ed0-8cdcc641d73f\">\n",
              "      <button class=\"colab-df-quickchart\" onclick=\"quickchart('df-56366169-2adf-47c4-8ed0-8cdcc641d73f')\"\n",
              "                title=\"Suggest charts\"\n",
              "                style=\"display:none;\">\n",
              "\n",
              "<svg xmlns=\"http://www.w3.org/2000/svg\" height=\"24px\"viewBox=\"0 0 24 24\"\n",
              "     width=\"24px\">\n",
              "    <g>\n",
              "        <path d=\"M19 3H5c-1.1 0-2 .9-2 2v14c0 1.1.9 2 2 2h14c1.1 0 2-.9 2-2V5c0-1.1-.9-2-2-2zM9 17H7v-7h2v7zm4 0h-2V7h2v10zm4 0h-2v-4h2v4z\"/>\n",
              "    </g>\n",
              "</svg>\n",
              "      </button>\n",
              "\n",
              "<style>\n",
              "  .colab-df-quickchart {\n",
              "      --bg-color: #E8F0FE;\n",
              "      --fill-color: #1967D2;\n",
              "      --hover-bg-color: #E2EBFA;\n",
              "      --hover-fill-color: #174EA6;\n",
              "      --disabled-fill-color: #AAA;\n",
              "      --disabled-bg-color: #DDD;\n",
              "  }\n",
              "\n",
              "  [theme=dark] .colab-df-quickchart {\n",
              "      --bg-color: #3B4455;\n",
              "      --fill-color: #D2E3FC;\n",
              "      --hover-bg-color: #434B5C;\n",
              "      --hover-fill-color: #FFFFFF;\n",
              "      --disabled-bg-color: #3B4455;\n",
              "      --disabled-fill-color: #666;\n",
              "  }\n",
              "\n",
              "  .colab-df-quickchart {\n",
              "    background-color: var(--bg-color);\n",
              "    border: none;\n",
              "    border-radius: 50%;\n",
              "    cursor: pointer;\n",
              "    display: none;\n",
              "    fill: var(--fill-color);\n",
              "    height: 32px;\n",
              "    padding: 0;\n",
              "    width: 32px;\n",
              "  }\n",
              "\n",
              "  .colab-df-quickchart:hover {\n",
              "    background-color: var(--hover-bg-color);\n",
              "    box-shadow: 0 1px 2px rgba(60, 64, 67, 0.3), 0 1px 3px 1px rgba(60, 64, 67, 0.15);\n",
              "    fill: var(--button-hover-fill-color);\n",
              "  }\n",
              "\n",
              "  .colab-df-quickchart-complete:disabled,\n",
              "  .colab-df-quickchart-complete:disabled:hover {\n",
              "    background-color: var(--disabled-bg-color);\n",
              "    fill: var(--disabled-fill-color);\n",
              "    box-shadow: none;\n",
              "  }\n",
              "\n",
              "  .colab-df-spinner {\n",
              "    border: 2px solid var(--fill-color);\n",
              "    border-color: transparent;\n",
              "    border-bottom-color: var(--fill-color);\n",
              "    animation:\n",
              "      spin 1s steps(1) infinite;\n",
              "  }\n",
              "\n",
              "  @keyframes spin {\n",
              "    0% {\n",
              "      border-color: transparent;\n",
              "      border-bottom-color: var(--fill-color);\n",
              "      border-left-color: var(--fill-color);\n",
              "    }\n",
              "    20% {\n",
              "      border-color: transparent;\n",
              "      border-left-color: var(--fill-color);\n",
              "      border-top-color: var(--fill-color);\n",
              "    }\n",
              "    30% {\n",
              "      border-color: transparent;\n",
              "      border-left-color: var(--fill-color);\n",
              "      border-top-color: var(--fill-color);\n",
              "      border-right-color: var(--fill-color);\n",
              "    }\n",
              "    40% {\n",
              "      border-color: transparent;\n",
              "      border-right-color: var(--fill-color);\n",
              "      border-top-color: var(--fill-color);\n",
              "    }\n",
              "    60% {\n",
              "      border-color: transparent;\n",
              "      border-right-color: var(--fill-color);\n",
              "    }\n",
              "    80% {\n",
              "      border-color: transparent;\n",
              "      border-right-color: var(--fill-color);\n",
              "      border-bottom-color: var(--fill-color);\n",
              "    }\n",
              "    90% {\n",
              "      border-color: transparent;\n",
              "      border-bottom-color: var(--fill-color);\n",
              "    }\n",
              "  }\n",
              "</style>\n",
              "\n",
              "      <script>\n",
              "        async function quickchart(key) {\n",
              "          const quickchartButtonEl =\n",
              "            document.querySelector('#' + key + ' button');\n",
              "          quickchartButtonEl.disabled = true;  // To prevent multiple clicks.\n",
              "          quickchartButtonEl.classList.add('colab-df-spinner');\n",
              "          try {\n",
              "            const charts = await google.colab.kernel.invokeFunction(\n",
              "                'suggestCharts', [key], {});\n",
              "          } catch (error) {\n",
              "            console.error('Error during call to suggestCharts:', error);\n",
              "          }\n",
              "          quickchartButtonEl.classList.remove('colab-df-spinner');\n",
              "          quickchartButtonEl.classList.add('colab-df-quickchart-complete');\n",
              "        }\n",
              "        (() => {\n",
              "          let quickchartButtonEl =\n",
              "            document.querySelector('#df-56366169-2adf-47c4-8ed0-8cdcc641d73f button');\n",
              "          quickchartButtonEl.style.display =\n",
              "            google.colab.kernel.accessAllowed ? 'block' : 'none';\n",
              "        })();\n",
              "      </script>\n",
              "    </div>\n",
              "\n",
              "    </div>\n",
              "  </div>\n"
            ],
            "application/vnd.google.colaboratory.intrinsic+json": {
              "type": "dataframe",
              "summary": "{\n  \"name\": \"df\",\n  \"rows\": 8,\n  \"fields\": [\n    {\n      \"column\": \"step\",\n      \"properties\": {\n        \"dtype\": \"number\",\n        \"std\": 1,\n        \"min\": 5,\n        \"max\": 10,\n        \"num_unique_values\": 3,\n        \"samples\": [\n          9,\n          10,\n          5\n        ],\n        \"semantic_type\": \"\",\n        \"description\": \"\"\n      }\n    },\n    {\n      \"column\": \"type\",\n      \"properties\": {\n        \"dtype\": \"string\",\n        \"num_unique_values\": 4,\n        \"samples\": [\n          \"CASH_OUT\",\n          \"PAYMENT\",\n          \"CASH_IN\"\n        ],\n        \"semantic_type\": \"\",\n        \"description\": \"\"\n      }\n    },\n    {\n      \"column\": \"amount\",\n      \"properties\": {\n        \"dtype\": \"number\",\n        \"std\": 439373.07938575116,\n        \"min\": 34852.96,\n        \"max\": 1374469.26,\n        \"num_unique_values\": 8,\n        \"samples\": [\n          85738.89,\n          1374469.26,\n          151657.34\n        ],\n        \"semantic_type\": \"\",\n        \"description\": \"\"\n      }\n    },\n    {\n      \"column\": \"nameOrig\",\n      \"properties\": {\n        \"dtype\": \"string\",\n        \"num_unique_values\": 8,\n        \"samples\": [\n          \"C1709185383\",\n          \"C1392404631\",\n          \"C819383281\"\n        ],\n        \"semantic_type\": \"\",\n        \"description\": \"\"\n      }\n    },\n    {\n      \"column\": \"oldbalanceOrg\",\n      \"properties\": {\n        \"dtype\": \"number\",\n        \"std\": 2176136.4964187546,\n        \"min\": 0.0,\n        \"max\": 6198727.47,\n        \"num_unique_values\": 8,\n        \"samples\": [\n          440.0,\n          194.0,\n          1230.0\n        ],\n        \"semantic_type\": \"\",\n        \"description\": \"\"\n      }\n    },\n    {\n      \"column\": \"newbalanceOrig\",\n      \"properties\": {\n        \"dtype\": \"number\",\n        \"std\": 2215202.7461829935,\n        \"min\": 0.0,\n        \"max\": 6331766.28,\n        \"num_unique_values\": 5,\n        \"samples\": [\n          0.0,\n          5231.04,\n          6331766.28\n        ],\n        \"semantic_type\": \"\",\n        \"description\": \"\"\n      }\n    },\n    {\n      \"column\": \"nameDest\",\n      \"properties\": {\n        \"dtype\": \"string\",\n        \"num_unique_values\": 8,\n        \"samples\": [\n          \"C1474544725\",\n          \"C1423125072\",\n          \"C1109485117\"\n        ],\n        \"semantic_type\": \"\",\n        \"description\": \"\"\n      }\n    },\n    {\n      \"column\": \"oldbalanceDest\",\n      \"properties\": {\n        \"dtype\": \"number\",\n        \"std\": 2459443.9828556906,\n        \"min\": 0.0,\n        \"max\": 7093793.67,\n        \"num_unique_values\": 8,\n        \"samples\": [\n          198171.0,\n          84223.24,\n          443539.1\n        ],\n        \"semantic_type\": \"\",\n        \"description\": \"\"\n      }\n    },\n    {\n      \"column\": \"newbalanceDest\",\n      \"properties\": {\n        \"dtype\": \"number\",\n        \"std\": 2252022.905250075,\n        \"min\": 0.0,\n        \"max\": 6661385.87,\n        \"num_unique_values\": 7,\n        \"samples\": [\n          503219.5,\n          470554.48,\n          1726713.28\n        ],\n        \"semantic_type\": \"\",\n        \"description\": \"\"\n      }\n    },\n    {\n      \"column\": \"isFraud\",\n      \"properties\": {\n        \"dtype\": \"number\",\n        \"std\": 0.0,\n        \"min\": 0.0,\n        \"max\": 0.0,\n        \"num_unique_values\": 1,\n        \"samples\": [\n          0.0\n        ],\n        \"semantic_type\": \"\",\n        \"description\": \"\"\n      }\n    },\n    {\n      \"column\": \"isFlaggedFraud\",\n      \"properties\": {\n        \"dtype\": \"number\",\n        \"std\": 0.0,\n        \"min\": 0.0,\n        \"max\": 0.0,\n        \"num_unique_values\": 1,\n        \"samples\": [\n          0.0\n        ],\n        \"semantic_type\": \"\",\n        \"description\": \"\"\n      }\n    }\n  ]\n}"
            }
          },
          "metadata": {},
          "execution_count": 6
        }
      ]
    },
    {
      "cell_type": "code",
      "source": [
        "# checking the null values in the data\n",
        "df.isnull().sum()"
      ],
      "metadata": {
        "colab": {
          "base_uri": "https://localhost:8080/",
          "height": 429
        },
        "id": "5fzB4woAuhVQ",
        "outputId": "5a6a344c-0ad3-4530-e836-20359e9a4709"
      },
      "execution_count": 7,
      "outputs": [
        {
          "output_type": "execute_result",
          "data": {
            "text/plain": [
              "step              0\n",
              "type              0\n",
              "amount            0\n",
              "nameOrig          0\n",
              "oldbalanceOrg     0\n",
              "newbalanceOrig    0\n",
              "nameDest          0\n",
              "oldbalanceDest    0\n",
              "newbalanceDest    1\n",
              "isFraud           1\n",
              "isFlaggedFraud    1\n",
              "dtype: int64"
            ],
            "text/html": [
              "<div>\n",
              "<style scoped>\n",
              "    .dataframe tbody tr th:only-of-type {\n",
              "        vertical-align: middle;\n",
              "    }\n",
              "\n",
              "    .dataframe tbody tr th {\n",
              "        vertical-align: top;\n",
              "    }\n",
              "\n",
              "    .dataframe thead th {\n",
              "        text-align: right;\n",
              "    }\n",
              "</style>\n",
              "<table border=\"1\" class=\"dataframe\">\n",
              "  <thead>\n",
              "    <tr style=\"text-align: right;\">\n",
              "      <th></th>\n",
              "      <th>0</th>\n",
              "    </tr>\n",
              "  </thead>\n",
              "  <tbody>\n",
              "    <tr>\n",
              "      <th>step</th>\n",
              "      <td>0</td>\n",
              "    </tr>\n",
              "    <tr>\n",
              "      <th>type</th>\n",
              "      <td>0</td>\n",
              "    </tr>\n",
              "    <tr>\n",
              "      <th>amount</th>\n",
              "      <td>0</td>\n",
              "    </tr>\n",
              "    <tr>\n",
              "      <th>nameOrig</th>\n",
              "      <td>0</td>\n",
              "    </tr>\n",
              "    <tr>\n",
              "      <th>oldbalanceOrg</th>\n",
              "      <td>0</td>\n",
              "    </tr>\n",
              "    <tr>\n",
              "      <th>newbalanceOrig</th>\n",
              "      <td>0</td>\n",
              "    </tr>\n",
              "    <tr>\n",
              "      <th>nameDest</th>\n",
              "      <td>0</td>\n",
              "    </tr>\n",
              "    <tr>\n",
              "      <th>oldbalanceDest</th>\n",
              "      <td>0</td>\n",
              "    </tr>\n",
              "    <tr>\n",
              "      <th>newbalanceDest</th>\n",
              "      <td>1</td>\n",
              "    </tr>\n",
              "    <tr>\n",
              "      <th>isFraud</th>\n",
              "      <td>1</td>\n",
              "    </tr>\n",
              "    <tr>\n",
              "      <th>isFlaggedFraud</th>\n",
              "      <td>1</td>\n",
              "    </tr>\n",
              "  </tbody>\n",
              "</table>\n",
              "</div><br><label><b>dtype:</b> int64</label>"
            ]
          },
          "metadata": {},
          "execution_count": 7
        }
      ]
    },
    {
      "cell_type": "markdown",
      "source": [
        "not much values are null, so no need to impute it so easily  we can remove the null values in the data."
      ],
      "metadata": {
        "id": "NI4RzT6_vFc-"
      }
    },
    {
      "cell_type": "code",
      "source": [
        "# checking how's the look mathematically\n",
        "df.describe()"
      ],
      "metadata": {
        "colab": {
          "base_uri": "https://localhost:8080/",
          "height": 300
        },
        "id": "nexJ3kttuphJ",
        "outputId": "2b56af65-d2d1-455b-b016-912a4fd318d5"
      },
      "execution_count": 8,
      "outputs": [
        {
          "output_type": "execute_result",
          "data": {
            "text/plain": [
              "               step        amount  oldbalanceOrg  newbalanceOrig  \\\n",
              "count  97225.000000  9.722500e+04   9.722500e+04    9.722500e+04   \n",
              "mean       8.456817  1.724217e+05   8.793150e+05    8.956148e+05   \n",
              "std        1.833480  3.419651e+05   2.689865e+06    2.727826e+06   \n",
              "min        1.000000  3.200000e-01   0.000000e+00    0.000000e+00   \n",
              "25%        8.000000  9.893120e+03   0.000000e+00    0.000000e+00   \n",
              "50%        9.000000  5.208135e+04   1.994700e+04    0.000000e+00   \n",
              "75%       10.000000  2.103607e+05   1.863453e+05    2.107046e+05   \n",
              "max       10.000000  1.000000e+07   3.379739e+07    3.400874e+07   \n",
              "\n",
              "       oldbalanceDest  newbalanceDest       isFraud  isFlaggedFraud  \n",
              "count    9.722500e+04    9.722400e+04  97224.000000         97224.0  \n",
              "mean     8.792683e+05    1.182315e+06      0.001173             0.0  \n",
              "std      2.403354e+06    2.802840e+06      0.034223             0.0  \n",
              "min      0.000000e+00    0.000000e+00      0.000000             0.0  \n",
              "25%      0.000000e+00    0.000000e+00      0.000000             0.0  \n",
              "50%      2.080800e+04    4.894480e+04      0.000000             0.0  \n",
              "75%      5.853365e+05    1.051531e+06      0.000000             0.0  \n",
              "max      3.400874e+07    3.397234e+07      1.000000             0.0  "
            ],
            "text/html": [
              "\n",
              "  <div id=\"df-f3907ee9-9013-489f-96ea-9d23f1c9256b\" class=\"colab-df-container\">\n",
              "    <div>\n",
              "<style scoped>\n",
              "    .dataframe tbody tr th:only-of-type {\n",
              "        vertical-align: middle;\n",
              "    }\n",
              "\n",
              "    .dataframe tbody tr th {\n",
              "        vertical-align: top;\n",
              "    }\n",
              "\n",
              "    .dataframe thead th {\n",
              "        text-align: right;\n",
              "    }\n",
              "</style>\n",
              "<table border=\"1\" class=\"dataframe\">\n",
              "  <thead>\n",
              "    <tr style=\"text-align: right;\">\n",
              "      <th></th>\n",
              "      <th>step</th>\n",
              "      <th>amount</th>\n",
              "      <th>oldbalanceOrg</th>\n",
              "      <th>newbalanceOrig</th>\n",
              "      <th>oldbalanceDest</th>\n",
              "      <th>newbalanceDest</th>\n",
              "      <th>isFraud</th>\n",
              "      <th>isFlaggedFraud</th>\n",
              "    </tr>\n",
              "  </thead>\n",
              "  <tbody>\n",
              "    <tr>\n",
              "      <th>count</th>\n",
              "      <td>97225.000000</td>\n",
              "      <td>9.722500e+04</td>\n",
              "      <td>9.722500e+04</td>\n",
              "      <td>9.722500e+04</td>\n",
              "      <td>9.722500e+04</td>\n",
              "      <td>9.722400e+04</td>\n",
              "      <td>97224.000000</td>\n",
              "      <td>97224.0</td>\n",
              "    </tr>\n",
              "    <tr>\n",
              "      <th>mean</th>\n",
              "      <td>8.456817</td>\n",
              "      <td>1.724217e+05</td>\n",
              "      <td>8.793150e+05</td>\n",
              "      <td>8.956148e+05</td>\n",
              "      <td>8.792683e+05</td>\n",
              "      <td>1.182315e+06</td>\n",
              "      <td>0.001173</td>\n",
              "      <td>0.0</td>\n",
              "    </tr>\n",
              "    <tr>\n",
              "      <th>std</th>\n",
              "      <td>1.833480</td>\n",
              "      <td>3.419651e+05</td>\n",
              "      <td>2.689865e+06</td>\n",
              "      <td>2.727826e+06</td>\n",
              "      <td>2.403354e+06</td>\n",
              "      <td>2.802840e+06</td>\n",
              "      <td>0.034223</td>\n",
              "      <td>0.0</td>\n",
              "    </tr>\n",
              "    <tr>\n",
              "      <th>min</th>\n",
              "      <td>1.000000</td>\n",
              "      <td>3.200000e-01</td>\n",
              "      <td>0.000000e+00</td>\n",
              "      <td>0.000000e+00</td>\n",
              "      <td>0.000000e+00</td>\n",
              "      <td>0.000000e+00</td>\n",
              "      <td>0.000000</td>\n",
              "      <td>0.0</td>\n",
              "    </tr>\n",
              "    <tr>\n",
              "      <th>25%</th>\n",
              "      <td>8.000000</td>\n",
              "      <td>9.893120e+03</td>\n",
              "      <td>0.000000e+00</td>\n",
              "      <td>0.000000e+00</td>\n",
              "      <td>0.000000e+00</td>\n",
              "      <td>0.000000e+00</td>\n",
              "      <td>0.000000</td>\n",
              "      <td>0.0</td>\n",
              "    </tr>\n",
              "    <tr>\n",
              "      <th>50%</th>\n",
              "      <td>9.000000</td>\n",
              "      <td>5.208135e+04</td>\n",
              "      <td>1.994700e+04</td>\n",
              "      <td>0.000000e+00</td>\n",
              "      <td>2.080800e+04</td>\n",
              "      <td>4.894480e+04</td>\n",
              "      <td>0.000000</td>\n",
              "      <td>0.0</td>\n",
              "    </tr>\n",
              "    <tr>\n",
              "      <th>75%</th>\n",
              "      <td>10.000000</td>\n",
              "      <td>2.103607e+05</td>\n",
              "      <td>1.863453e+05</td>\n",
              "      <td>2.107046e+05</td>\n",
              "      <td>5.853365e+05</td>\n",
              "      <td>1.051531e+06</td>\n",
              "      <td>0.000000</td>\n",
              "      <td>0.0</td>\n",
              "    </tr>\n",
              "    <tr>\n",
              "      <th>max</th>\n",
              "      <td>10.000000</td>\n",
              "      <td>1.000000e+07</td>\n",
              "      <td>3.379739e+07</td>\n",
              "      <td>3.400874e+07</td>\n",
              "      <td>3.400874e+07</td>\n",
              "      <td>3.397234e+07</td>\n",
              "      <td>1.000000</td>\n",
              "      <td>0.0</td>\n",
              "    </tr>\n",
              "  </tbody>\n",
              "</table>\n",
              "</div>\n",
              "    <div class=\"colab-df-buttons\">\n",
              "\n",
              "  <div class=\"colab-df-container\">\n",
              "    <button class=\"colab-df-convert\" onclick=\"convertToInteractive('df-f3907ee9-9013-489f-96ea-9d23f1c9256b')\"\n",
              "            title=\"Convert this dataframe to an interactive table.\"\n",
              "            style=\"display:none;\">\n",
              "\n",
              "  <svg xmlns=\"http://www.w3.org/2000/svg\" height=\"24px\" viewBox=\"0 -960 960 960\">\n",
              "    <path d=\"M120-120v-720h720v720H120Zm60-500h600v-160H180v160Zm220 220h160v-160H400v160Zm0 220h160v-160H400v160ZM180-400h160v-160H180v160Zm440 0h160v-160H620v160ZM180-180h160v-160H180v160Zm440 0h160v-160H620v160Z\"/>\n",
              "  </svg>\n",
              "    </button>\n",
              "\n",
              "  <style>\n",
              "    .colab-df-container {\n",
              "      display:flex;\n",
              "      gap: 12px;\n",
              "    }\n",
              "\n",
              "    .colab-df-convert {\n",
              "      background-color: #E8F0FE;\n",
              "      border: none;\n",
              "      border-radius: 50%;\n",
              "      cursor: pointer;\n",
              "      display: none;\n",
              "      fill: #1967D2;\n",
              "      height: 32px;\n",
              "      padding: 0 0 0 0;\n",
              "      width: 32px;\n",
              "    }\n",
              "\n",
              "    .colab-df-convert:hover {\n",
              "      background-color: #E2EBFA;\n",
              "      box-shadow: 0px 1px 2px rgba(60, 64, 67, 0.3), 0px 1px 3px 1px rgba(60, 64, 67, 0.15);\n",
              "      fill: #174EA6;\n",
              "    }\n",
              "\n",
              "    .colab-df-buttons div {\n",
              "      margin-bottom: 4px;\n",
              "    }\n",
              "\n",
              "    [theme=dark] .colab-df-convert {\n",
              "      background-color: #3B4455;\n",
              "      fill: #D2E3FC;\n",
              "    }\n",
              "\n",
              "    [theme=dark] .colab-df-convert:hover {\n",
              "      background-color: #434B5C;\n",
              "      box-shadow: 0px 1px 3px 1px rgba(0, 0, 0, 0.15);\n",
              "      filter: drop-shadow(0px 1px 2px rgba(0, 0, 0, 0.3));\n",
              "      fill: #FFFFFF;\n",
              "    }\n",
              "  </style>\n",
              "\n",
              "    <script>\n",
              "      const buttonEl =\n",
              "        document.querySelector('#df-f3907ee9-9013-489f-96ea-9d23f1c9256b button.colab-df-convert');\n",
              "      buttonEl.style.display =\n",
              "        google.colab.kernel.accessAllowed ? 'block' : 'none';\n",
              "\n",
              "      async function convertToInteractive(key) {\n",
              "        const element = document.querySelector('#df-f3907ee9-9013-489f-96ea-9d23f1c9256b');\n",
              "        const dataTable =\n",
              "          await google.colab.kernel.invokeFunction('convertToInteractive',\n",
              "                                                    [key], {});\n",
              "        if (!dataTable) return;\n",
              "\n",
              "        const docLinkHtml = 'Like what you see? Visit the ' +\n",
              "          '<a target=\"_blank\" href=https://colab.research.google.com/notebooks/data_table.ipynb>data table notebook</a>'\n",
              "          + ' to learn more about interactive tables.';\n",
              "        element.innerHTML = '';\n",
              "        dataTable['output_type'] = 'display_data';\n",
              "        await google.colab.output.renderOutput(dataTable, element);\n",
              "        const docLink = document.createElement('div');\n",
              "        docLink.innerHTML = docLinkHtml;\n",
              "        element.appendChild(docLink);\n",
              "      }\n",
              "    </script>\n",
              "  </div>\n",
              "\n",
              "\n",
              "    <div id=\"df-052d9a09-4e6a-426f-a849-1e82c59ee0fc\">\n",
              "      <button class=\"colab-df-quickchart\" onclick=\"quickchart('df-052d9a09-4e6a-426f-a849-1e82c59ee0fc')\"\n",
              "                title=\"Suggest charts\"\n",
              "                style=\"display:none;\">\n",
              "\n",
              "<svg xmlns=\"http://www.w3.org/2000/svg\" height=\"24px\"viewBox=\"0 0 24 24\"\n",
              "     width=\"24px\">\n",
              "    <g>\n",
              "        <path d=\"M19 3H5c-1.1 0-2 .9-2 2v14c0 1.1.9 2 2 2h14c1.1 0 2-.9 2-2V5c0-1.1-.9-2-2-2zM9 17H7v-7h2v7zm4 0h-2V7h2v10zm4 0h-2v-4h2v4z\"/>\n",
              "    </g>\n",
              "</svg>\n",
              "      </button>\n",
              "\n",
              "<style>\n",
              "  .colab-df-quickchart {\n",
              "      --bg-color: #E8F0FE;\n",
              "      --fill-color: #1967D2;\n",
              "      --hover-bg-color: #E2EBFA;\n",
              "      --hover-fill-color: #174EA6;\n",
              "      --disabled-fill-color: #AAA;\n",
              "      --disabled-bg-color: #DDD;\n",
              "  }\n",
              "\n",
              "  [theme=dark] .colab-df-quickchart {\n",
              "      --bg-color: #3B4455;\n",
              "      --fill-color: #D2E3FC;\n",
              "      --hover-bg-color: #434B5C;\n",
              "      --hover-fill-color: #FFFFFF;\n",
              "      --disabled-bg-color: #3B4455;\n",
              "      --disabled-fill-color: #666;\n",
              "  }\n",
              "\n",
              "  .colab-df-quickchart {\n",
              "    background-color: var(--bg-color);\n",
              "    border: none;\n",
              "    border-radius: 50%;\n",
              "    cursor: pointer;\n",
              "    display: none;\n",
              "    fill: var(--fill-color);\n",
              "    height: 32px;\n",
              "    padding: 0;\n",
              "    width: 32px;\n",
              "  }\n",
              "\n",
              "  .colab-df-quickchart:hover {\n",
              "    background-color: var(--hover-bg-color);\n",
              "    box-shadow: 0 1px 2px rgba(60, 64, 67, 0.3), 0 1px 3px 1px rgba(60, 64, 67, 0.15);\n",
              "    fill: var(--button-hover-fill-color);\n",
              "  }\n",
              "\n",
              "  .colab-df-quickchart-complete:disabled,\n",
              "  .colab-df-quickchart-complete:disabled:hover {\n",
              "    background-color: var(--disabled-bg-color);\n",
              "    fill: var(--disabled-fill-color);\n",
              "    box-shadow: none;\n",
              "  }\n",
              "\n",
              "  .colab-df-spinner {\n",
              "    border: 2px solid var(--fill-color);\n",
              "    border-color: transparent;\n",
              "    border-bottom-color: var(--fill-color);\n",
              "    animation:\n",
              "      spin 1s steps(1) infinite;\n",
              "  }\n",
              "\n",
              "  @keyframes spin {\n",
              "    0% {\n",
              "      border-color: transparent;\n",
              "      border-bottom-color: var(--fill-color);\n",
              "      border-left-color: var(--fill-color);\n",
              "    }\n",
              "    20% {\n",
              "      border-color: transparent;\n",
              "      border-left-color: var(--fill-color);\n",
              "      border-top-color: var(--fill-color);\n",
              "    }\n",
              "    30% {\n",
              "      border-color: transparent;\n",
              "      border-left-color: var(--fill-color);\n",
              "      border-top-color: var(--fill-color);\n",
              "      border-right-color: var(--fill-color);\n",
              "    }\n",
              "    40% {\n",
              "      border-color: transparent;\n",
              "      border-right-color: var(--fill-color);\n",
              "      border-top-color: var(--fill-color);\n",
              "    }\n",
              "    60% {\n",
              "      border-color: transparent;\n",
              "      border-right-color: var(--fill-color);\n",
              "    }\n",
              "    80% {\n",
              "      border-color: transparent;\n",
              "      border-right-color: var(--fill-color);\n",
              "      border-bottom-color: var(--fill-color);\n",
              "    }\n",
              "    90% {\n",
              "      border-color: transparent;\n",
              "      border-bottom-color: var(--fill-color);\n",
              "    }\n",
              "  }\n",
              "</style>\n",
              "\n",
              "      <script>\n",
              "        async function quickchart(key) {\n",
              "          const quickchartButtonEl =\n",
              "            document.querySelector('#' + key + ' button');\n",
              "          quickchartButtonEl.disabled = true;  // To prevent multiple clicks.\n",
              "          quickchartButtonEl.classList.add('colab-df-spinner');\n",
              "          try {\n",
              "            const charts = await google.colab.kernel.invokeFunction(\n",
              "                'suggestCharts', [key], {});\n",
              "          } catch (error) {\n",
              "            console.error('Error during call to suggestCharts:', error);\n",
              "          }\n",
              "          quickchartButtonEl.classList.remove('colab-df-spinner');\n",
              "          quickchartButtonEl.classList.add('colab-df-quickchart-complete');\n",
              "        }\n",
              "        (() => {\n",
              "          let quickchartButtonEl =\n",
              "            document.querySelector('#df-052d9a09-4e6a-426f-a849-1e82c59ee0fc button');\n",
              "          quickchartButtonEl.style.display =\n",
              "            google.colab.kernel.accessAllowed ? 'block' : 'none';\n",
              "        })();\n",
              "      </script>\n",
              "    </div>\n",
              "\n",
              "    </div>\n",
              "  </div>\n"
            ],
            "application/vnd.google.colaboratory.intrinsic+json": {
              "type": "dataframe",
              "summary": "{\n  \"name\": \"df\",\n  \"rows\": 8,\n  \"fields\": [\n    {\n      \"column\": \"step\",\n      \"properties\": {\n        \"dtype\": \"number\",\n        \"std\": 34371.78955447051,\n        \"min\": 1.0,\n        \"max\": 97225.0,\n        \"num_unique_values\": 7,\n        \"samples\": [\n          97225.0,\n          8.456816662381074,\n          9.0\n        ],\n        \"semantic_type\": \"\",\n        \"description\": \"\"\n      }\n    },\n    {\n      \"column\": \"amount\",\n      \"properties\": {\n        \"dtype\": \"number\",\n        \"std\": 3492760.787481488,\n        \"min\": 0.32,\n        \"max\": 10000000.0,\n        \"num_unique_values\": 8,\n        \"samples\": [\n          172421.70729894572,\n          52081.35,\n          97225.0\n        ],\n        \"semantic_type\": \"\",\n        \"description\": \"\"\n      }\n    },\n    {\n      \"column\": \"oldbalanceOrg\",\n      \"properties\": {\n        \"dtype\": \"number\",\n        \"std\": 11789446.672877766,\n        \"min\": 0.0,\n        \"max\": 33797391.55,\n        \"num_unique_values\": 7,\n        \"samples\": [\n          97225.0,\n          879314.9898285421,\n          186345.3\n        ],\n        \"semantic_type\": \"\",\n        \"description\": \"\"\n      }\n    },\n    {\n      \"column\": \"newbalanceOrig\",\n      \"properties\": {\n        \"dtype\": \"number\",\n        \"std\": 11862062.780366715,\n        \"min\": 0.0,\n        \"max\": 34008736.98,\n        \"num_unique_values\": 6,\n        \"samples\": [\n          97225.0,\n          895614.7596563641,\n          34008736.98\n        ],\n        \"semantic_type\": \"\",\n        \"description\": \"\"\n      }\n    },\n    {\n      \"column\": \"oldbalanceDest\",\n      \"properties\": {\n        \"dtype\": \"number\",\n        \"std\": 11850533.383288367,\n        \"min\": 0.0,\n        \"max\": 34008736.98,\n        \"num_unique_values\": 7,\n        \"samples\": [\n          97225.0,\n          879268.3452005142,\n          585336.54\n        ],\n        \"semantic_type\": \"\",\n        \"description\": \"\"\n      }\n    },\n    {\n      \"column\": \"newbalanceDest\",\n      \"properties\": {\n        \"dtype\": \"number\",\n        \"std\": 11788916.7839602,\n        \"min\": 0.0,\n        \"max\": 33972337.24,\n        \"num_unique_values\": 7,\n        \"samples\": [\n          97224.0,\n          1182314.5554948365,\n          1051531.01\n        ],\n        \"semantic_type\": \"\",\n        \"description\": \"\"\n      }\n    },\n    {\n      \"column\": \"isFraud\",\n      \"properties\": {\n        \"dtype\": \"number\",\n        \"std\": 34373.82255344977,\n        \"min\": 0.0,\n        \"max\": 97224.0,\n        \"num_unique_values\": 5,\n        \"samples\": [\n          0.0011725499876573686,\n          1.0,\n          0.03422261182994993\n        ],\n        \"semantic_type\": \"\",\n        \"description\": \"\"\n      }\n    },\n    {\n      \"column\": \"isFlaggedFraud\",\n      \"properties\": {\n        \"dtype\": \"number\",\n        \"std\": 34373.874847040446,\n        \"min\": 0.0,\n        \"max\": 97224.0,\n        \"num_unique_values\": 2,\n        \"samples\": [\n          0.0,\n          97224.0\n        ],\n        \"semantic_type\": \"\",\n        \"description\": \"\"\n      }\n    }\n  ]\n}"
            }
          },
          "metadata": {},
          "execution_count": 8
        }
      ]
    },
    {
      "cell_type": "code",
      "source": [
        "#  value count of the output column\n",
        "df['isFraud'].value_counts(normalize=True)"
      ],
      "metadata": {
        "colab": {
          "base_uri": "https://localhost:8080/",
          "height": 178
        },
        "id": "7NnuRn3pu0A7",
        "outputId": "2f6e6ef5-5893-4e72-9de4-c137b4bedb87"
      },
      "execution_count": 9,
      "outputs": [
        {
          "output_type": "execute_result",
          "data": {
            "text/plain": [
              "isFraud\n",
              "0.0    0.998827\n",
              "1.0    0.001173\n",
              "Name: proportion, dtype: float64"
            ],
            "text/html": [
              "<div>\n",
              "<style scoped>\n",
              "    .dataframe tbody tr th:only-of-type {\n",
              "        vertical-align: middle;\n",
              "    }\n",
              "\n",
              "    .dataframe tbody tr th {\n",
              "        vertical-align: top;\n",
              "    }\n",
              "\n",
              "    .dataframe thead th {\n",
              "        text-align: right;\n",
              "    }\n",
              "</style>\n",
              "<table border=\"1\" class=\"dataframe\">\n",
              "  <thead>\n",
              "    <tr style=\"text-align: right;\">\n",
              "      <th></th>\n",
              "      <th>proportion</th>\n",
              "    </tr>\n",
              "    <tr>\n",
              "      <th>isFraud</th>\n",
              "      <th></th>\n",
              "    </tr>\n",
              "  </thead>\n",
              "  <tbody>\n",
              "    <tr>\n",
              "      <th>0.0</th>\n",
              "      <td>0.998827</td>\n",
              "    </tr>\n",
              "    <tr>\n",
              "      <th>1.0</th>\n",
              "      <td>0.001173</td>\n",
              "    </tr>\n",
              "  </tbody>\n",
              "</table>\n",
              "</div><br><label><b>dtype:</b> float64</label>"
            ]
          },
          "metadata": {},
          "execution_count": 9
        }
      ]
    },
    {
      "cell_type": "markdown",
      "source": [
        "so , we should focus that sample of the data is to much imbalance"
      ],
      "metadata": {
        "id": "b-fptC8Qu6wq"
      }
    },
    {
      "cell_type": "markdown",
      "source": [
        "below is the visualization of the target column given in the dataset"
      ],
      "metadata": {
        "id": "E5knWFtNvZNY"
      }
    },
    {
      "cell_type": "code",
      "source": [
        "import seaborn as sns\n",
        "import matplotlib.pyplot as plt\n",
        "\n",
        "sns.countplot(x='isFraud', data=df)\n",
        "plt.title('Fraud vs Non-Fraud Count')\n"
      ],
      "metadata": {
        "colab": {
          "base_uri": "https://localhost:8080/",
          "height": 490
        },
        "id": "I8bvhtuMvV9S",
        "outputId": "7cd632aa-d02e-48a0-cc29-c468481a376e"
      },
      "execution_count": 10,
      "outputs": [
        {
          "output_type": "execute_result",
          "data": {
            "text/plain": [
              "Text(0.5, 1.0, 'Fraud vs Non-Fraud Count')"
            ]
          },
          "metadata": {},
          "execution_count": 10
        },
        {
          "output_type": "display_data",
          "data": {
            "text/plain": [
              "<Figure size 640x480 with 1 Axes>"
            ],
            "image/png": "[encoded data removed]"
          },
          "metadata": {}
        }
      ]
    },
    {
      "cell_type": "code",
      "source": [
        "print(\"Transaction Types Distribution:\")\n",
        "print(df['type'].value_counts())"
      ],
      "metadata": {
        "colab": {
          "base_uri": "https://localhost:8080/",
          "height": 0
        },
        "id": "o4bKyB7RvoVN",
        "outputId": "bcf9e6a3-11d0-4ded-df99-f01da9226fde"
      },
      "execution_count": 11,
      "outputs": [
        {
          "output_type": "stream",
          "name": "stdout",
          "text": [
            "Transaction Types Distribution:\n",
            "type\n",
            "PAYMENT     38478\n",
            "CASH_OUT    29839\n",
            "CASH_IN     19561\n",
            "TRANSFER     8371\n",
            "DEBIT         976\n",
            "Name: count, dtype: int64\n"
          ]
        }
      ]
    },
    {
      "cell_type": "code",
      "source": [
        "sns.countplot(data=df, x='type', order=df['type'].value_counts().index, palette='Set2')\n",
        "plt.title('Transaction Type Frequencies')\n",
        "plt.xticks(rotation=45)\n",
        "plt.show()"
      ],
      "metadata": {
        "colab": {
          "base_uri": "https://localhost:8080/",
          "height": 632
        },
        "id": "O50QE1koxGr8",
        "outputId": "80548a6f-c985-45db-c6b8-13287d6ce349"
      },
      "execution_count": 12,
      "outputs": [
        {
          "output_type": "stream",
          "name": "stderr",
          "text": [
            "/tmp/ipython-input-12-1519864297.py:1: FutureWarning: \n",
            "\n",
            "Passing `palette` without assigning `hue` is deprecated and will be removed in v0.14.0. Assign the `x` variable to `hue` and set `legend=False` for the same effect.\n",
            "\n",
            "  sns.countplot(data=df, x='type', order=df['type'].value_counts().index, palette='Set2')\n"
          ]
        },
        {
          "output_type": "display_data",
          "data": {
            "text/plain": [
              "<Figure size 640x480 with 1 Axes>"
            ],
            "image/png": "[encoded data removed]"
          },
          "metadata": {}
        }
      ]
    },
    {
      "cell_type": "code",
      "source": [
        "sns.countplot(x='type', hue='isFraud', data=df)\n",
        "plt.title('Transaction Type vs Fraud')"
      ],
      "metadata": {
        "colab": {
          "base_uri": "https://localhost:8080/",
          "height": 490
        },
        "id": "sWQowGUfvhiV",
        "outputId": "8ea5fdaa-f4f0-4961-a249-5e2e954170f4"
      },
      "execution_count": 13,
      "outputs": [
        {
          "output_type": "execute_result",
          "data": {
            "text/plain": [
              "Text(0.5, 1.0, 'Transaction Type vs Fraud')"
            ]
          },
          "metadata": {},
          "execution_count": 13
        },
        {
          "output_type": "display_data",
          "data": {
            "text/plain": [
              "<Figure size 640x480 with 1 Axes>"
            ],
            "image/png": "[encoded data removed]"
          },
          "metadata": {}
        }
      ]
    },
    {
      "cell_type": "markdown",
      "source": [
        "from above , we can concude that only \"transfer\" and \"Cash_out\" have the fraud value true.\n",
        "So , in trasaction only there two plays critical role and rest of them we will futher remove it"
      ],
      "metadata": {
        "id": "t1MpCmJSv-mA"
      }
    },
    {
      "cell_type": "markdown",
      "source": [
        "Numerical values of the fraud Distribution"
      ],
      "metadata": {
        "id": "Hkz_HQNuxwWf"
      }
    },
    {
      "cell_type": "code",
      "source": [
        "# types of Fraud Distribution\n",
        "fraud_by_type = df.groupby('type')['isFraud'].value_counts().unstack().fillna(0)\n",
        "print(\"Fraud by Transaction Type:\")\n",
        "print(fraud_by_type)"
      ],
      "metadata": {
        "colab": {
          "base_uri": "https://localhost:8080/",
          "height": 0
        },
        "id": "Jt4hAOkZxe1j",
        "outputId": "220c9b69-545b-440a-f278-6b7ea7236387"
      },
      "execution_count": 14,
      "outputs": [
        {
          "output_type": "stream",
          "name": "stdout",
          "text": [
            "Fraud by Transaction Type:\n",
            "isFraud       0.0   1.0\n",
            "type                   \n",
            "CASH_IN   19561.0   0.0\n",
            "CASH_OUT  29781.0  58.0\n",
            "DEBIT       976.0   0.0\n",
            "PAYMENT   38477.0   0.0\n",
            "TRANSFER   8315.0  56.0\n"
          ]
        }
      ]
    },
    {
      "cell_type": "code",
      "source": [
        "sns.boxplot(x='isFraud', y='amount', data=df)"
      ],
      "metadata": {
        "colab": {
          "base_uri": "https://localhost:8080/",
          "height": 483
        },
        "id": "WWpWKHn_we_q",
        "outputId": "1a1a7f43-fa90-42fe-aed2-11b9eb5b18f4"
      },
      "execution_count": 15,
      "outputs": [
        {
          "output_type": "execute_result",
          "data": {
            "text/plain": [
              "<Axes: xlabel='isFraud', ylabel='amount'>"
            ]
          },
          "metadata": {},
          "execution_count": 15
        },
        {
          "output_type": "display_data",
          "data": {
            "text/plain": [
              "<Figure size 640x480 with 1 Axes>"
            ],
            "image/png": "[encoded data removed]"
          },
          "metadata": {}
        }
      ]
    },
    {
      "cell_type": "markdown",
      "source": [
        "Note : here no need to remove the outliers because they have fraud value and there is only only outlier that is not fraud"
      ],
      "metadata": {
        "id": "uY39tVvcwnsS"
      }
    },
    {
      "cell_type": "markdown",
      "source": [
        "Checking the behaviour of the account's amount  "
      ],
      "metadata": {
        "id": "iTATIAmzy1ZV"
      }
    },
    {
      "cell_type": "code",
      "source": [
        "# Balance Checks\n",
        "df['balanceDiffOrig'] = df['oldbalanceOrg'] - df['newbalanceOrig']\n",
        "df['balanceDiffDest'] = df['newbalanceDest'] - df['oldbalanceDest']\n",
        "\n",
        "print(\"\\n🔹 Mean balanceDiffOrig (Fraud vs Non-Fraud):\")\n",
        "print(df.groupby('isFraud')['balanceDiffOrig'].mean())\n",
        "\n",
        "print(\"\\n🔹 Mean balanceDiffDest (Fraud vs Non-Fraud):\")\n",
        "print(df.groupby('isFraud')['balanceDiffDest'].mean())"
      ],
      "metadata": {
        "colab": {
          "base_uri": "https://localhost:8080/",
          "height": 0
        },
        "id": "-qcvpL_Bw9Gn",
        "outputId": "70f09af1-5f20-4009-9c7c-7d83e5ed755b"
      },
      "execution_count": 16,
      "outputs": [
        {
          "output_type": "stream",
          "name": "stdout",
          "text": [
            "\n",
            "🔹 Mean balanceDiffOrig (Fraud vs Non-Fraud):\n",
            "isFraud\n",
            "0.0    -16934.191631\n",
            "1.0    523984.454386\n",
            "Name: balanceDiffOrig, dtype: float64\n",
            "\n",
            "🔹 Mean balanceDiffDest (Fraud vs Non-Fraud):\n",
            "isFraud\n",
            "0.0    302883.418576\n",
            "1.0    434006.169737\n",
            "Name: balanceDiffDest, dtype: float64\n"
          ]
        }
      ]
    },
    {
      "cell_type": "markdown",
      "source": [
        "It conclude that : how the money flow differs in fraudulent vs. normal transactions"
      ],
      "metadata": {
        "id": "bfQB0msKzA8G"
      }
    },
    {
      "cell_type": "code",
      "source": [
        "# Merchants Check\n",
        "df['isMerchant'] = df['nameDest'].str.startswith(\"M\").astype(int)\n",
        "merchant_stats = df.groupby(['isFraud', 'isMerchant']).size().unstack().fillna(0)\n",
        "\n",
        "print(\"\\n🔹 Merchant Fraud Stats:\")\n",
        "print(merchant_stats)\n",
        "\n",
        "merchant_stats.plot(kind='bar', stacked=True, color=['skyblue', 'orange'])\n",
        "plt.title(\"Merchant Involvement in Fraud\")\n",
        "plt.ylabel(\"Transaction Count\")\n",
        "plt.xticks(ticks=[0,1], labels=[\"Not Fraud\", \"Fraud\"])\n",
        "plt.show()"
      ],
      "metadata": {
        "colab": {
          "base_uri": "https://localhost:8080/",
          "height": 634
        },
        "id": "JCy7QwlXzM57",
        "outputId": "716f1ff1-2d9f-4259-cf19-b4b114e1e47e"
      },
      "execution_count": 17,
      "outputs": [
        {
          "output_type": "stream",
          "name": "stdout",
          "text": [
            "\n",
            "🔹 Merchant Fraud Stats:\n",
            "isMerchant        0        1\n",
            "isFraud                     \n",
            "0.0         58633.0  38477.0\n",
            "1.0           114.0      0.0\n"
          ]
        },
        {
          "output_type": "display_data",
          "data": {
            "text/plain": [
              "<Figure size 640x480 with 1 Axes>"
            ],
            "image/png": "[encoded data removed]"
          },
          "metadata": {}
        }
      ]
    },
    {
      "cell_type": "markdown",
      "source": [
        "Conclude that Merchant not involve in the fraud transaction"
      ],
      "metadata": {
        "id": "FmbKTGlQzY4q"
      }
    },
    {
      "cell_type": "markdown",
      "source": [
        "# After permoming EDA , starting building the model"
      ],
      "metadata": {
        "id": "BVWo3QL91dKK"
      }
    },
    {
      "cell_type": "code",
      "source": [
        "# Feature engineering\n",
        "df['balanceDiffOrig'] = df['oldbalanceOrg'] - df['newbalanceOrig']\n",
        "df['balanceDiffDest'] = df['newbalanceDest'] - df['oldbalanceDest']\n",
        "df['zeroBalanceAfter'] = (df['newbalanceOrig'] == 0).astype(int)\n",
        "df['emptyDestBefore'] = (df['oldbalanceDest'] == 0).astype(int)\n",
        "df['isMerchant'] = df['nameDest'].fillna('').astype(str).str.startswith('M').astype(int)"
      ],
      "metadata": {
        "id": "7z_9lBTQ133h"
      },
      "execution_count": 18,
      "outputs": []
    },
    {
      "cell_type": "code",
      "source": [
        "# Filter fraud-related transaction types only\n",
        "df = df[df['type'].isin(['TRANSFER', 'CASH_OUT'])].copy()"
      ],
      "metadata": {
        "id": "mH1OsZan1t_Z"
      },
      "execution_count": 19,
      "outputs": []
    },
    {
      "cell_type": "code",
      "source": [
        "# 🔧 Convert 'type' to numeric\n",
        "df['type'] = df['type'].map({'TRANSFER': 0, 'CASH_OUT': 1})"
      ],
      "metadata": {
        "id": "96LM2H0s10Gg"
      },
      "execution_count": 20,
      "outputs": []
    },
    {
      "cell_type": "code",
      "source": [
        "#  Drop rows with missing target\n",
        "df = df[df['isFraud'].notna()]\n"
      ],
      "metadata": {
        "id": "vwx5dKTXT6pT"
      },
      "execution_count": 21,
      "outputs": []
    },
    {
      "cell_type": "code",
      "source": [
        "# Drop irrelevant columns\n",
        "df.drop(['nameOrig', 'nameDest', 'isFlaggedFraud'], axis=1, inplace=True)"
      ],
      "metadata": {
        "id": "AwDgCLZSR9tT"
      },
      "execution_count": 22,
      "outputs": []
    },
    {
      "cell_type": "code",
      "source": [
        "# Drop rows where 'isFraud' is NaN because only 1 value is null\n",
        "df = df[df['isFraud'].notna()]"
      ],
      "metadata": {
        "id": "DdY3j3IJTb4r"
      },
      "execution_count": 23,
      "outputs": []
    },
    {
      "cell_type": "code",
      "source": [
        "# Define features and target\n",
        "X = df.drop(columns=['isFraud'])\n",
        "y = df['isFraud']\n",
        "\n",
        "# Shuffle dataset to avoid order bias\n",
        "X, y = shuffle(X, y, random_state=42)\n"
      ],
      "metadata": {
        "id": "w4R-IPcRSclB"
      },
      "execution_count": 24,
      "outputs": []
    },
    {
      "cell_type": "code",
      "source": [
        "#  Train-test split\n",
        "X_train, X_test, y_train, y_test = train_test_split(\n",
        "    X, y, test_size=0.25, stratify=y, random_state=42\n",
        ")"
      ],
      "metadata": {
        "id": "ygVCZQfTSfGU"
      },
      "execution_count": 25,
      "outputs": []
    },
    {
      "cell_type": "markdown",
      "source": [
        "# ML algo"
      ],
      "metadata": {
        "id": "VNP3uU2t4HHV"
      }
    },
    {
      "cell_type": "code",
      "source": [
        "from sklearn.ensemble import RandomForestClassifier, GradientBoostingClassifier, VotingClassifier\n",
        "from sklearn.metrics import classification_report, confusion_matrix, roc_auc_score, precision_score, recall_score\n",
        "import time"
      ],
      "metadata": {
        "id": "tnQjpuQ75JHN"
      },
      "execution_count": 35,
      "outputs": []
    },
    {
      "cell_type": "markdown",
      "source": [
        "1. Checking result on the Random Forest"
      ],
      "metadata": {
        "id": "s7ZOm10x4_BJ"
      }
    },
    {
      "cell_type": "code",
      "source": [
        "#-------------------- RANDOM FOREST --------------------\n",
        "print(\"Training on Random Forest...\")\n",
        "start_rf = time.time()\n",
        "rf = RandomForestClassifier(n_estimators=100, class_weight='balanced', random_state=42)\n",
        "rf.fit(X_train, y_train)\n",
        "rf_time = time.time() - start_rf\n",
        "\n",
        "# Predict and evaluate\n",
        "rf_pred = rf.predict(X_test)\n",
        "rf_proba = rf.predict_proba(X_test)[:, 1]\n",
        "\n",
        "print(f\"Random Forest Results (trained in {int(rf_time)}s):\")\n",
        "print(\"Classification Report:\\n\", classification_report(y_test, rf_pred))\n",
        "print(\"Confusion Matrix:\\n\", confusion_matrix(y_test, rf_pred))\n",
        "print(\"ROC AUC Score:\", roc_auc_score(y_test, rf_proba))"
      ],
      "metadata": {
        "id": "Us7yolWz6Vwi",
        "colab": {
          "base_uri": "https://localhost:8080/",
          "height": 0
        },
        "outputId": "2aaf1f5a-7c30-4969-8191-53ab97fec713"
      },
      "execution_count": 27,
      "outputs": [
        {
          "output_type": "stream",
          "name": "stdout",
          "text": [
            "Training on Random Forest...\n",
            "Random Forest Results (trained in 3s):\n",
            "Classification Report:\n",
            "               precision    recall  f1-score   support\n",
            "\n",
            "         0.0       1.00      1.00      1.00      9524\n",
            "         1.0       0.75      0.41      0.53        29\n",
            "\n",
            "    accuracy                           1.00      9553\n",
            "   macro avg       0.87      0.71      0.77      9553\n",
            "weighted avg       1.00      1.00      1.00      9553\n",
            "\n",
            "Confusion Matrix:\n",
            " [[9520    4]\n",
            " [  17   12]]\n",
            "ROC AUC Score: 0.9619255890744254\n"
          ]
        }
      ]
    },
    {
      "cell_type": "markdown",
      "source": [
        "Note: Random Forest had higher precision and trained faster."
      ],
      "metadata": {
        "id": "21_EW8sbD43m"
      }
    },
    {
      "cell_type": "markdown",
      "source": [
        "2. GRADIENT BOOSTING"
      ],
      "metadata": {
        "id": "zOeoFkTw5X7C"
      }
    },
    {
      "cell_type": "code",
      "source": [
        "# -------------------- GRADIENT BOOSTING --------------------\n",
        "print(\"Training Gradient Boosting...\")\n",
        "start_gb = time.time()\n",
        "gb = GradientBoostingClassifier(n_estimators=100, learning_rate=0.05, random_state=42)\n",
        "gb.fit(X_train, y_train)\n",
        "gb_time = time.time() - start_gb\n",
        "\n",
        "# Predict and evaluate\n",
        "gb_pred = gb.predict(X_test)\n",
        "gb_proba = gb.predict_proba(X_test)[:, 1]\n",
        "\n",
        "print(f\"Gradient Boosting Results (trained in {int(gb_time)}s):\")\n",
        "print(\"Classification Report:\\n\", classification_report(y_test, gb_pred))\n",
        "print(\"Confusion Matrix:\\n\", confusion_matrix(y_test, gb_pred))\n",
        "print(\"ROC AUC Score:\", roc_auc_score(y_test, gb_proba))"
      ],
      "metadata": {
        "id": "h80gQHXp5V3A",
        "colab": {
          "base_uri": "https://localhost:8080/",
          "height": 0
        },
        "outputId": "56c125e4-b64e-468d-9664-1d9520433f96"
      },
      "execution_count": 28,
      "outputs": [
        {
          "output_type": "stream",
          "name": "stdout",
          "text": [
            "Training Gradient Boosting...\n",
            "Gradient Boosting Results (trained in 7s):\n",
            "Classification Report:\n",
            "               precision    recall  f1-score   support\n",
            "\n",
            "         0.0       1.00      1.00      1.00      9524\n",
            "         1.0       0.71      0.41      0.52        29\n",
            "\n",
            "    accuracy                           1.00      9553\n",
            "   macro avg       0.85      0.71      0.76      9553\n",
            "weighted avg       1.00      1.00      1.00      9553\n",
            "\n",
            "Confusion Matrix:\n",
            " [[9519    5]\n",
            " [  17   12]]\n",
            "ROC AUC Score: 0.9767031383510261\n"
          ]
        }
      ]
    },
    {
      "cell_type": "markdown",
      "source": [
        "Note : Gradient Boosting had higher AUC and better at catching edge cases."
      ],
      "metadata": {
        "id": "7qToKccQEBL4"
      }
    },
    {
      "cell_type": "markdown",
      "source": [
        "# which model"
      ],
      "metadata": {
        "id": "JAYQi-V4EH2X"
      }
    },
    {
      "cell_type": "markdown",
      "source": [
        "As the result of both different model both had lower recall individually, meaning they were missing frauds.\n",
        "\n",
        "So I used a soft voting ensemble to:\n",
        "\n",
        "1.   Leverage Random Forest’s robustness\n",
        "2.   Capture Gradient Boosting’s sensitivity\n",
        "3.   Increase recall and precision together without sacrificing much\n",
        "\n",
        "As a result, the ensemble caught more frauds and made fewer false alerts, which is critical in real fraud systems.\n",
        "\n"
      ],
      "metadata": {
        "id": "fJ8TbgjDEK6g"
      }
    },
    {
      "cell_type": "code",
      "source": [
        "# Define Base model\n",
        "rf = RandomForestClassifier(n_estimators=100, class_weight='balanced', random_state=42)\n",
        "gb = GradientBoostingClassifier(n_estimators=100, learning_rate=0.05, random_state=42)\n"
      ],
      "metadata": {
        "id": "AEphRlfISiW1"
      },
      "execution_count": 30,
      "outputs": []
    },
    {
      "cell_type": "code",
      "source": [
        "# Combine with Soft Voting\n",
        "ensemble = VotingClassifier(estimators=[\n",
        "    ('rf', rf),\n",
        "    ('gb', gb)\n",
        "], voting='soft')"
      ],
      "metadata": {
        "id": "GSARVDnIFKPT"
      },
      "execution_count": 31,
      "outputs": []
    },
    {
      "cell_type": "code",
      "source": [
        "# Training Soft Voting Ensemble...\n",
        "start = time.time()\n",
        "ensemble.fit(X_train, y_train)\n",
        "elapsed = time.time() - start\n",
        "print(f\"✅ Training completed in {int(elapsed)} seconds.\\n\")"
      ],
      "metadata": {
        "colab": {
          "base_uri": "https://localhost:8080/",
          "height": 0
        },
        "id": "Qfwf09x1FSGn",
        "outputId": "bc7b39a4-c779-4457-ea05-12e33635a4c9"
      },
      "execution_count": 32,
      "outputs": [
        {
          "output_type": "stream",
          "name": "stdout",
          "text": [
            "✅ Training completed in 10 seconds.\n",
            "\n"
          ]
        }
      ]
    },
    {
      "cell_type": "code",
      "source": [
        "# Evaluate Performance of the model\n",
        "y_pred = ensemble.predict(X_test)\n",
        "y_proba = ensemble.predict_proba(X_test)[:, 1]"
      ],
      "metadata": {
        "id": "7xVkGYxxFYeh"
      },
      "execution_count": 33,
      "outputs": []
    },
    {
      "cell_type": "code",
      "source": [
        "print(\"Ensemble Model Performance (Soft Voting):\")\n",
        "\n",
        "print(\"Classification Report:\\n\", classification_report(y_test, y_pred))\n",
        "\n",
        "print(\"Confusion Matrix:\\n\", confusion_matrix(y_test, y_pred))\n",
        "\n",
        "print(\"Precision (Fraud):\", round(precision_score(y_test, y_pred), 2))\n",
        "\n",
        "print(\"Recall (Fraud):\", round(recall_score(y_test, y_pred), 2))\n",
        "\n",
        "print(\"ROC AUC Score:\", round(roc_auc_score(y_test, y_proba), 3))"
      ],
      "metadata": {
        "colab": {
          "base_uri": "https://localhost:8080/",
          "height": 0
        },
        "id": "1nFu95L0Fkb9",
        "outputId": "2b68eede-5d32-4014-fb44-006932c2c5ec"
      },
      "execution_count": 36,
      "outputs": [
        {
          "output_type": "stream",
          "name": "stdout",
          "text": [
            "Ensemble Model Performance (Soft Voting):\n",
            "Classification Report:\n",
            "               precision    recall  f1-score   support\n",
            "\n",
            "         0.0       1.00      1.00      1.00      9524\n",
            "         1.0       0.92      0.41      0.57        29\n",
            "\n",
            "    accuracy                           1.00      9553\n",
            "   macro avg       0.96      0.71      0.79      9553\n",
            "weighted avg       1.00      1.00      1.00      9553\n",
            "\n",
            "Confusion Matrix:\n",
            " [[9523    1]\n",
            " [  17   12]]\n",
            "Precision (Fraud): 0.92\n",
            "Recall (Fraud): 0.41\n",
            "ROC AUC Score: 0.978\n"
          ]
        }
      ]
    }
  ]
}